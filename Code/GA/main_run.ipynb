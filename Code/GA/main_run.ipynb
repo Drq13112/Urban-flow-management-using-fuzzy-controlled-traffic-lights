{
 "cells": [
  {
   "cell_type": "code",
   "execution_count": 1,
   "id": "c08c03d5",
   "metadata": {
    "ExecuteTime": {
     "end_time": "2022-03-27T06:34:58.228973Z",
     "start_time": "2022-03-27T06:34:57.287625Z"
    }
   },
   "outputs": [
    {
     "name": "stdout",
     "output_type": "stream",
     "text": [
      "(b'<configuration><input><net-file value=\"Manhattan5x3.net.xml\" /><route-files '\n",
      " b'value=\"Manhattan5x3.rou.xml\" /></input><time><begin value=\"0\" /><end value=\"'\n",
      " b'1000\" /></time><time-to-teleport value=\"-1\" /></configuration>')\n",
      "Launching SUMO\n"
     ]
    }
   ],
   "source": [
    "import wandb\n",
    "from sumolib import checkBinary\n",
    "import Genetic_Algorithm as GA\n",
    "import numpy as np\n",
    "import matplotlib.pyplot as plt"
   ]
  },
  {
   "cell_type": "code",
   "execution_count": 2,
   "id": "0e68dfe8",
   "metadata": {
    "ExecuteTime": {
     "end_time": "2022-03-28T09:29:03.474215Z",
     "start_time": "2022-03-27T06:34:58.228973Z"
    },
    "collapsed": true
   },
   "outputs": [
    {
     "ename": "KeyboardInterrupt",
     "evalue": "",
     "output_type": "error",
     "traceback": [
      "\u001b[1;31m---------------------------------------------------------------------------\u001b[0m",
      "\u001b[1;31mKeyboardInterrupt\u001b[0m                         Traceback (most recent call last)",
      "Cell \u001b[1;32mIn[2], line 66\u001b[0m\n\u001b[0;32m     62\u001b[0m GA_pop \u001b[38;5;241m=\u001b[39m GA_pop_next\n\u001b[0;32m     65\u001b[0m \u001b[38;5;66;03m## Evaluating Population\u001b[39;00m\n\u001b[1;32m---> 66\u001b[0m fitness, emissions, waiting \u001b[38;5;241m=\u001b[39m GA_pop\u001b[38;5;241m.\u001b[39mevaluate_pop()\n\u001b[0;32m     67\u001b[0m \u001b[38;5;66;03m#Generations.append([GA_pop.generation,GA_pop.best_fitness,GA_pop.best_emissions,GA_pop.best_waiting_time,\u001b[39;00m\n\u001b[0;32m     68\u001b[0m \u001b[38;5;66;03m#                    GA_pop.avg_fitness,GA_pop.avg_emissions,GA_pop.avg_waiting_time])\u001b[39;00m\n\u001b[0;32m     70\u001b[0m \u001b[38;5;28mprint\u001b[39m(\u001b[38;5;124m\"\u001b[39m\u001b[38;5;124mBest Fitness value in Generation \u001b[39m\u001b[38;5;124m\"\u001b[39m,current_gen, \u001b[38;5;124m\"\u001b[39m\u001b[38;5;124m is \u001b[39m\u001b[38;5;124m\"\u001b[39m,GA_pop\u001b[38;5;241m.\u001b[39mbest_fitness)\n",
      "File \u001b[1;32mc:\\Users\\Usuario\\Documents\\Master\\IA\\City\\Traffic-Lights-Genetic-Algorithm-main\\Genetic_Algorithm.py:130\u001b[0m, in \u001b[0;36mpopulation.evaluate_pop\u001b[1;34m(self)\u001b[0m\n\u001b[0;32m    128\u001b[0m \u001b[38;5;28;01mfor\u001b[39;00m chromosome \u001b[38;5;129;01min\u001b[39;00m \u001b[38;5;28mself\u001b[39m\u001b[38;5;241m.\u001b[39mgene_pool:\n\u001b[0;32m    129\u001b[0m     \u001b[38;5;28mprint\u001b[39m(\u001b[38;5;124m\"\u001b[39m\u001b[38;5;124mGeneration:\u001b[39m\u001b[38;5;124m\"\u001b[39m,\u001b[38;5;28mself\u001b[39m\u001b[38;5;241m.\u001b[39mgeneration,\u001b[38;5;124m\"\u001b[39m\u001b[38;5;124m Individual: \u001b[39m\u001b[38;5;124m\"\u001b[39m,individual)\n\u001b[1;32m--> 130\u001b[0m     fitness, emissions, waiting_time \u001b[38;5;241m=\u001b[39m evaluate_chromosome(chromosome)\n\u001b[0;32m    131\u001b[0m     fitness_pop\u001b[38;5;241m.\u001b[39mappend(fitness)\n\u001b[0;32m    132\u001b[0m     emissions_pop\u001b[38;5;241m.\u001b[39mappend(emissions)\n",
      "File \u001b[1;32mc:\\Users\\Usuario\\Documents\\Master\\IA\\City\\Traffic-Lights-Genetic-Algorithm-main\\Genetic_Algorithm.py:313\u001b[0m, in \u001b[0;36mevaluate_chromosome\u001b[1;34m(chromosome, sumo_binary, config_file, n_steps)\u001b[0m\n\u001b[0;32m    309\u001b[0m         \u001b[38;5;28;01mbreak\u001b[39;00m\n\u001b[0;32m    311\u001b[0m     \u001b[38;5;28;01mfor\u001b[39;00m l1,i \u001b[38;5;129;01min\u001b[39;00m \u001b[38;5;28mzip\u001b[39m(lanes,\u001b[38;5;28mrange\u001b[39m(\u001b[38;5;28mlen\u001b[39m(lanes))):\n\u001b[0;32m    312\u001b[0m \u001b[38;5;66;03m# compute per lane scores\u001b[39;00m\n\u001b[1;32m--> 313\u001b[0m         lane_emissions[n_steps][i] \u001b[38;5;241m+\u001b[39m\u001b[38;5;241m=\u001b[39m traci\u001b[38;5;241m.\u001b[39mlane\u001b[38;5;241m.\u001b[39mgetCO2Emission(l1)\n\u001b[0;32m    314\u001b[0m         lane_waiting[n_steps][i] \u001b[38;5;241m+\u001b[39m\u001b[38;5;241m=\u001b[39m traci\u001b[38;5;241m.\u001b[39mlane\u001b[38;5;241m.\u001b[39mgetWaitingTime(l1)\n\u001b[0;32m    316\u001b[0m \u001b[38;5;66;03m# compute the total fitness score for the current genome\u001b[39;00m\n",
      "File \u001b[1;32mC:\\Program Files (x86)\\Eclipse\\Sumo\\tools\\traci\\_lane.py:165\u001b[0m, in \u001b[0;36mLaneDomain.getCO2Emission\u001b[1;34m(self, laneID)\u001b[0m\n\u001b[0;32m    159\u001b[0m \u001b[38;5;28;01mdef\u001b[39;00m \u001b[38;5;21mgetCO2Emission\u001b[39m(\u001b[38;5;28mself\u001b[39m, laneID):\n\u001b[0;32m    160\u001b[0m \u001b[38;5;250m    \u001b[39m\u001b[38;5;124;03m\"\"\"getCO2Emission(string) -> double\u001b[39;00m\n\u001b[0;32m    161\u001b[0m \n\u001b[0;32m    162\u001b[0m \u001b[38;5;124;03m    Returns the CO2 emission in mg/s for the last time step on the given lane.\u001b[39;00m\n\u001b[0;32m    163\u001b[0m \u001b[38;5;124;03m    Multiply by the step length to get the value for one step.\u001b[39;00m\n\u001b[0;32m    164\u001b[0m \u001b[38;5;124;03m    \"\"\"\u001b[39;00m\n\u001b[1;32m--> 165\u001b[0m     \u001b[38;5;28;01mreturn\u001b[39;00m \u001b[38;5;28mself\u001b[39m\u001b[38;5;241m.\u001b[39m_getUniversal(tc\u001b[38;5;241m.\u001b[39mVAR_CO2EMISSION, laneID)\n",
      "File \u001b[1;32mC:\\Program Files (x86)\\Eclipse\\Sumo\\tools\\traci\\domain.py:147\u001b[0m, in \u001b[0;36mDomain._getUniversal\u001b[1;34m(self, varID, objectID, format, *values)\u001b[0m\n\u001b[0;32m    145\u001b[0m \u001b[38;5;28;01mif\u001b[39;00m \u001b[38;5;28mself\u001b[39m\u001b[38;5;241m.\u001b[39m_deprecatedFor:\n\u001b[0;32m    146\u001b[0m     warnings\u001b[38;5;241m.\u001b[39mwarn(\u001b[38;5;124m\"\u001b[39m\u001b[38;5;124mThe domain \u001b[39m\u001b[38;5;132;01m%s\u001b[39;00m\u001b[38;5;124m is deprecated, use \u001b[39m\u001b[38;5;132;01m%s\u001b[39;00m\u001b[38;5;124m instead.\u001b[39m\u001b[38;5;124m\"\u001b[39m \u001b[38;5;241m%\u001b[39m (\u001b[38;5;28mself\u001b[39m\u001b[38;5;241m.\u001b[39m_name, \u001b[38;5;28mself\u001b[39m\u001b[38;5;241m.\u001b[39m_deprecatedFor))\n\u001b[1;32m--> 147\u001b[0m \u001b[38;5;28;01mreturn\u001b[39;00m _parse(\u001b[38;5;28mself\u001b[39m\u001b[38;5;241m.\u001b[39m_retValFunc, varID, \u001b[38;5;28mself\u001b[39m\u001b[38;5;241m.\u001b[39m_getCmd(varID, objectID, \u001b[38;5;28mformat\u001b[39m, \u001b[38;5;241m*\u001b[39mvalues))\n",
      "File \u001b[1;32mC:\\Program Files (x86)\\Eclipse\\Sumo\\tools\\traci\\domain.py:152\u001b[0m, in \u001b[0;36mDomain._getCmd\u001b[1;34m(self, varID, objID, format, *values)\u001b[0m\n\u001b[0;32m    150\u001b[0m \u001b[38;5;28;01mif\u001b[39;00m \u001b[38;5;28mself\u001b[39m\u001b[38;5;241m.\u001b[39m_connection \u001b[38;5;129;01mis\u001b[39;00m \u001b[38;5;28;01mNone\u001b[39;00m:\n\u001b[0;32m    151\u001b[0m     \u001b[38;5;28;01mraise\u001b[39;00m FatalTraCIError(\u001b[38;5;124m\"\u001b[39m\u001b[38;5;124mNot connected.\u001b[39m\u001b[38;5;124m\"\u001b[39m)\n\u001b[1;32m--> 152\u001b[0m r \u001b[38;5;241m=\u001b[39m \u001b[38;5;28mself\u001b[39m\u001b[38;5;241m.\u001b[39m_connection\u001b[38;5;241m.\u001b[39m_sendCmd(\u001b[38;5;28mself\u001b[39m\u001b[38;5;241m.\u001b[39m_cmdGetID, varID, objID, \u001b[38;5;28mformat\u001b[39m, \u001b[38;5;241m*\u001b[39mvalues)\n\u001b[0;32m    153\u001b[0m r\u001b[38;5;241m.\u001b[39mreadLength()\n\u001b[0;32m    154\u001b[0m response, retVarID \u001b[38;5;241m=\u001b[39m r\u001b[38;5;241m.\u001b[39mread(\u001b[38;5;124m\"\u001b[39m\u001b[38;5;124m!BB\u001b[39m\u001b[38;5;124m\"\u001b[39m)\n",
      "File \u001b[1;32mC:\\Program Files (x86)\\Eclipse\\Sumo\\tools\\traci\\connection.py:231\u001b[0m, in \u001b[0;36mConnection._sendCmd\u001b[1;34m(self, cmdID, varID, objID, format, *values)\u001b[0m\n\u001b[0;32m    229\u001b[0m     \u001b[38;5;28mself\u001b[39m\u001b[38;5;241m.\u001b[39m_string \u001b[38;5;241m+\u001b[39m\u001b[38;5;241m=\u001b[39m struct\u001b[38;5;241m.\u001b[39mpack(\u001b[38;5;124m\"\u001b[39m\u001b[38;5;124m!i\u001b[39m\u001b[38;5;124m\"\u001b[39m, \u001b[38;5;28mlen\u001b[39m(objID)) \u001b[38;5;241m+\u001b[39m objID\n\u001b[0;32m    230\u001b[0m \u001b[38;5;28mself\u001b[39m\u001b[38;5;241m.\u001b[39m_string \u001b[38;5;241m+\u001b[39m\u001b[38;5;241m=\u001b[39m packed\n\u001b[1;32m--> 231\u001b[0m \u001b[38;5;28;01mreturn\u001b[39;00m \u001b[38;5;28mself\u001b[39m\u001b[38;5;241m.\u001b[39m_sendExact()\n",
      "File \u001b[1;32mC:\\Program Files (x86)\\Eclipse\\Sumo\\tools\\traci\\connection.py:130\u001b[0m, in \u001b[0;36mConnection._sendExact\u001b[1;34m(self)\u001b[0m\n\u001b[0;32m    128\u001b[0m \u001b[38;5;28;01mif\u001b[39;00m _DEBUG:\n\u001b[0;32m    129\u001b[0m     \u001b[38;5;28mprint\u001b[39m(\u001b[38;5;124m\"\u001b[39m\u001b[38;5;124msending\u001b[39m\u001b[38;5;124m\"\u001b[39m, Storage(length \u001b[38;5;241m+\u001b[39m \u001b[38;5;28mself\u001b[39m\u001b[38;5;241m.\u001b[39m_string)\u001b[38;5;241m.\u001b[39mgetDebugString())\n\u001b[1;32m--> 130\u001b[0m \u001b[38;5;28mself\u001b[39m\u001b[38;5;241m.\u001b[39m_socket\u001b[38;5;241m.\u001b[39msend(length \u001b[38;5;241m+\u001b[39m \u001b[38;5;28mself\u001b[39m\u001b[38;5;241m.\u001b[39m_string)\n\u001b[0;32m    131\u001b[0m result \u001b[38;5;241m=\u001b[39m \u001b[38;5;28mself\u001b[39m\u001b[38;5;241m.\u001b[39m_recvExact()\n\u001b[0;32m    132\u001b[0m \u001b[38;5;28;01mif\u001b[39;00m _DEBUG:\n",
      "\u001b[1;31mKeyboardInterrupt\u001b[0m: "
     ]
    }
   ],
   "source": [
    "#Initialize Weights and Biases\n",
    "wandb.init(project=\"IA\", entity=\"davidredquin\")\n",
    "\n",
    "#SUMO parameters\n",
    "sumo_binary = checkBinary('sumo')\n",
    "sumo_binary_gui = checkBinary('sumo-gui')\n",
    "config_file = 'tutorial.sumocfg'\n",
    "\n",
    "pop_size = 12\n",
    "max_generations = 20  \n",
    "n_survivors = 3\n",
    "\n",
    "#Mutation and Crossover parameters\n",
    "crossover_rate=0.5\n",
    "duration_mutation_rate=0.2\n",
    "duration_mutation_strength=15\n",
    "states_mutation_rate = 0.2\n",
    "light_options = ['G', 'y', 'r']\n",
    "\n",
    "\n",
    "#Fitness Function parameters\n",
    "collision_penalty   = [400,4000,10000,400,4000]\n",
    "waiting_time_weight = [10/20000,15/2000,5/2000,20/2000]\n",
    "emissions_weight    = [10/20000,5/2000,15/2000,0/2000]\n",
    "\n",
    "\n",
    "# Launch 5 simulated experiments\n",
    "total_runs = 1\n",
    "for run in range(total_runs):\n",
    "  # 🐝 1️⃣ Start a new run to track this script\n",
    "    wandb.init(\n",
    "      # Set the project where this run will be logged\n",
    "      project=\"IA\", \n",
    "      entity=\"davidredquin\",\n",
    "      # We pass a run name (otherwise it’ll be randomly assigned, like sunshine-lollypop-10)\n",
    "      name=f\"GA_22_{run}\",\n",
    "      # Track hyperparameters and run metadata\n",
    "      config={\n",
    "        \"config_file\":config_file,\n",
    "        \"collision_penalty\": collision_penalty[run],\n",
    "        \"waiting_time_weight\": waiting_time_weight[run],\n",
    "        \"emissions_weight\": emissions_weight[run],\n",
    "        \"architecture\": \"Genetic Algorithm\",\n",
    "        \"population_size\": pop_size,\n",
    "        \"max_generations\":max_generations,\n",
    "        \"n_survivors\":n_survivors,\n",
    "        \"crossover_rate\":crossover_rate,\n",
    "        \"duration_mutation_rate\":duration_mutation_rate,\n",
    "        \"duration_mutation_strength\":duration_mutation_strength,\n",
    "        \"states_mutation_rate\":states_mutation_rate       \n",
    "      }\n",
    "    )\n",
    "\n",
    "    #Get Base chromosome\n",
    "    chromosome_base = GA.get_chromosome()\n",
    "    GA_pop_next = GA.generate_random_population(chromosome_base)\n",
    "    current_gen = 0\n",
    "    #Generations=[]\n",
    "    \n",
    "    #Run GA\n",
    "    while(current_gen <max_generations):\n",
    "        GA_pop = GA_pop_next\n",
    "        \n",
    "        \n",
    "        ## Evaluating Population\n",
    "        fitness, emissions, waiting = GA_pop.evaluate_pop()\n",
    "        #Generations.append([GA_pop.generation,GA_pop.best_fitness,GA_pop.best_emissions,GA_pop.best_waiting_time,\n",
    "        #                    GA_pop.avg_fitness,GA_pop.avg_emissions,GA_pop.avg_waiting_time])\n",
    "\n",
    "        print(\"Best Fitness value in Generation \",current_gen, \" is \",GA_pop.best_fitness)\n",
    "\n",
    "        #Logging data to Weights and Biases\n",
    "        best_fitness = GA_pop.best_fitness\n",
    "        best_emissions = GA_pop.best_emissions\n",
    "        best_waiting_time = GA_pop.best_waiting_time\n",
    "        avg_fitness = GA_pop.avg_fitness\n",
    "        avg_emissions = GA_pop.avg_emissions\n",
    "        avg_waiting_time = GA_pop.avg_waiting_time\n",
    "\n",
    "        print(\"Logging info to WandB\")\n",
    "        wandb.log({\"best_fitness\":best_fitness,\"best_emissions\":best_emissions,\"best_waiting_time\":best_waiting_time,\n",
    "                   \"avg_fitness\":avg_fitness, \"avg_emissions\":avg_emissions,\"avg_waiting_time\":avg_waiting_time})\n",
    "        \n",
    "        \n",
    "        ## Visualize SUMO run\n",
    "        if current_gen // 5 == 0:\n",
    "            GA.visualize_SUMO(GA_pop.best_individual)\n",
    "        \n",
    "        #Calculating Survivors\n",
    "        sorted_pop = np.argsort(fitness)[:n_survivors]\n",
    "        Next_gene_pool = [GA_pop.gene_pool[idx] for idx in sorted_pop]\n",
    "        \n",
    "        #Creating new Generation\n",
    "        while len(Next_gene_pool) < pop_size:\n",
    "\n",
    "            chromosome_male =GA_pop.gene_pool[int(np.random.uniform(0,n_survivors))]\n",
    "            chromosome_female=GA_pop.gene_pool[int(np.random.uniform(0,n_survivors))]\n",
    "            chromosome_child = GA.crossover_parent(chromosome_male, chromosome_female,crossover_rate)\n",
    "            chromosome_child = GA.mutate_chromosome(chromosome_child,0.1,5,0.2)\n",
    "            Next_gene_pool.append(chromosome_child)\n",
    "\n",
    "        current_gen = current_gen+1\n",
    "        GA_pop_next = GA.population(current_gen)\n",
    "        GA_pop_next.gene_pool = Next_gene_pool\n",
    "\n",
    "    wandb.finish()"
   ]
  },
  {
   "cell_type": "code",
   "execution_count": 4,
   "id": "2f76687f",
   "metadata": {},
   "outputs": [],
   "source": [
    "vehiclewaiting_media,result_vehiclewaiting=GA.visualize_SUMO()\n",
    "vehiclewaiting_media2,result_vehiclewaiting2=GA.visualize_SUMO(GA_pop.best_individual)\n",
    "result_vehiclewaiting = np.nanmean(vehiclewaiting_media)\n",
    "result_vehiclewaiting2 = np.nanmean(vehiclewaiting_media2)\n",
    "\n",
    "# Crear una gráfica\n",
    "plt.figure()\n",
    "# Añadir una línea horizontal roja discontinua en la posición de result_personwaiting\n",
    "plt.axhline(y=result_vehiclewaiting, color='b', linestyle='--')\n",
    "plt.plot(vehiclewaiting_media)\n",
    "plt.legend([f'Tiempo de espera modo normal: {result_vehiclewaiting}',f'Tiempo de espera AG: {result_vehiclewaiting2}'])\n",
    "\n",
    "# Añadir una línea horizontal roja discontinua en la posición de result_personwaiting\n",
    "plt.axhline(y=result_vehiclewaiting2, color='g', linestyle='--')\n",
    "plt.plot(vehiclewaiting_media2,color='g')\n",
    "plt.show()"
   ]
  }
 ],
 "metadata": {
  "kernelspec": {
   "display_name": "Python 3",
   "language": "python",
   "name": "python3"
  },
  "language_info": {
   "codemirror_mode": {
    "name": "ipython",
    "version": 3
   },
   "file_extension": ".py",
   "mimetype": "text/x-python",
   "name": "python",
   "nbconvert_exporter": "python",
   "pygments_lexer": "ipython3",
   "version": "3.11.4"
  },
  "toc": {
   "base_numbering": 1,
   "nav_menu": {},
   "number_sections": true,
   "sideBar": true,
   "skip_h1_title": true,
   "title_cell": "Table of Contents",
   "title_sidebar": "Contents",
   "toc_cell": false,
   "toc_position": {
    "height": "calc(100% - 180px)",
    "left": "10px",
    "top": "150px",
    "width": "168.825px"
   },
   "toc_section_display": true,
   "toc_window_display": true
  },
  "varInspector": {
   "cols": {
    "lenName": 16,
    "lenType": 16,
    "lenVar": 40
   },
   "kernels_config": {
    "python": {
     "delete_cmd_postfix": "",
     "delete_cmd_prefix": "del ",
     "library": "var_list.py",
     "varRefreshCmd": "print(var_dic_list())"
    },
    "r": {
     "delete_cmd_postfix": ") ",
     "delete_cmd_prefix": "rm(",
     "library": "var_list.r",
     "varRefreshCmd": "cat(var_dic_list()) "
    }
   },
   "types_to_exclude": [
    "module",
    "function",
    "builtin_function_or_method",
    "instance",
    "_Feature"
   ],
   "window_display": false
  }
 },
 "nbformat": 4,
 "nbformat_minor": 5
}
